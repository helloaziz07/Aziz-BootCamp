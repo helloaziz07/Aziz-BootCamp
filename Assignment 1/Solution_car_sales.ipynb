{
 "cells": [
  {
   "cell_type": "code",
   "execution_count": 1,
   "metadata": {},
   "outputs": [],
   "source": [
    "import pandas as pd\n",
    "from sklearn.preprocessing import MinMaxScaler"
   ]
  },
  {
   "cell_type": "code",
   "execution_count": 3,
   "metadata": {},
   "outputs": [],
   "source": [
    "# Step 1: Load the dataset\n",
    "df = pd.read_csv('car_sales.csv')"
   ]
  },
  {
   "cell_type": "code",
   "execution_count": 4,
   "metadata": {},
   "outputs": [],
   "source": [
    "# Step 2: Handle missing data\n",
    "df['Price'].fillna(df['Price'].median(), inplace=True)\n",
    "df['Mileage'].fillna(df['Mileage'].mean(), inplace=True)\n"
   ]
  },
  {
   "cell_type": "code",
   "execution_count": 5,
   "metadata": {},
   "outputs": [],
   "source": [
    "# Step 3: Create the 'CarAge' column\n",
    "df['CarAge'] = 2024 - df['ModelYear']"
   ]
  },
  {
   "cell_type": "code",
   "execution_count": 6,
   "metadata": {},
   "outputs": [],
   "source": [
    "# Step 4: Normalize 'Price' and 'Mileage' using Min-Max scaling\n",
    "scaler = MinMaxScaler()\n",
    "df[['Price', 'Mileage']] = scaler.fit_transform(df[['Price', 'Mileage']])"
   ]
  },
  {
   "cell_type": "code",
   "execution_count": 7,
   "metadata": {},
   "outputs": [
    {
     "name": "stdout",
     "output_type": "stream",
     "text": [
      "   CarID   Brand  ModelYear     Price  Mileage  CarAge\n",
      "0      1  Toyota       2018  0.117647     0.20       6\n",
      "1      2   Honda       2019  0.117647     0.00       5\n",
      "2      3    Ford       2020  0.000000     0.45       4\n",
      "3      4     BMW       2017  1.000000     0.60       7\n",
      "4      5    Audi       2016  0.117647     1.00       8\n"
     ]
    }
   ],
   "source": [
    "# Display the cleaned and transformed dataset\n",
    "print(df)"
   ]
  },
  {
   "cell_type": "code",
   "execution_count": null,
   "metadata": {},
   "outputs": [],
   "source": []
  }
 ],
 "metadata": {
  "kernelspec": {
   "display_name": "base",
   "language": "python",
   "name": "python3"
  },
  "language_info": {
   "codemirror_mode": {
    "name": "ipython",
    "version": 3
   },
   "file_extension": ".py",
   "mimetype": "text/x-python",
   "name": "python",
   "nbconvert_exporter": "python",
   "pygments_lexer": "ipython3",
   "version": "3.11.7"
  }
 },
 "nbformat": 4,
 "nbformat_minor": 2
}

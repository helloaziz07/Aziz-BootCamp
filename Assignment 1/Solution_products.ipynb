{
 "cells": [
  {
   "cell_type": "code",
   "execution_count": 1,
   "metadata": {},
   "outputs": [],
   "source": [
    "import pandas as pd\n",
    "from sklearn.preprocessing import MinMaxScaler"
   ]
  },
  {
   "cell_type": "code",
   "execution_count": 2,
   "metadata": {},
   "outputs": [],
   "source": [
    "# Step 1: Load the dataset\n",
    "df = pd.read_csv('Products.csv')"
   ]
  },
  {
   "cell_type": "code",
   "execution_count": 3,
   "metadata": {},
   "outputs": [],
   "source": [
    "# Step 2: One-Hot Encode the 'Category' column\n",
    "df_encoded = pd.get_dummies(df, columns=['Category'])"
   ]
  },
  {
   "cell_type": "code",
   "execution_count": 4,
   "metadata": {},
   "outputs": [],
   "source": [
    "# Step 3: Detect and remove outliers in the 'Price' column using the IQR method\n",
    "Q1 = df_encoded['Price'].quantile(0.25)\n",
    "Q3 = df_encoded['Price'].quantile(0.75)\n",
    "\n",
    "IQR = Q3 - Q1\n",
    "\n",
    "lower_bound = Q1 - 1.5 * IQR\n",
    "upper_bound = Q3 + 1.5 * IQR"
   ]
  },
  {
   "cell_type": "code",
   "execution_count": 5,
   "metadata": {},
   "outputs": [],
   "source": [
    "# Filter out the outliers\n",
    "df_cleaned = df_encoded[(df_encoded['Price'] >= lower_bound) & (df_encoded['Price'] <= upper_bound)]"
   ]
  },
  {
   "cell_type": "code",
   "execution_count": 6,
   "metadata": {},
   "outputs": [],
   "source": [
    "# Step 4: Normalize 'Discount' using Min-Max scaling\n",
    "scaler = MinMaxScaler()\n",
    "df_cleaned['Discount'] = scaler.fit_transform(df_cleaned[['Discount']])"
   ]
  },
  {
   "cell_type": "code",
   "execution_count": 7,
   "metadata": {},
   "outputs": [
    {
     "name": "stdout",
     "output_type": "stream",
     "text": [
      "   ProductID  Price  Discount  Category_Clothing  Category_Electronics  \\\n",
      "0        101   1500       0.2              False                  True   \n",
      "1        102     50       0.6               True                 False   \n",
      "2        103    800       0.4              False                 False   \n",
      "3        104   2000       0.0              False                  True   \n",
      "4        105   3000       0.8              False                 False   \n",
      "5        106     40       1.0               True                 False   \n",
      "6        107   5000       0.2              False                  True   \n",
      "\n",
      "   Category_Furniture  \n",
      "0               False  \n",
      "1               False  \n",
      "2                True  \n",
      "3               False  \n",
      "4                True  \n",
      "5               False  \n",
      "6               False  \n"
     ]
    }
   ],
   "source": [
    "# Display the cleaned and transformed dataset\n",
    "print(df_cleaned)"
   ]
  },
  {
   "cell_type": "code",
   "execution_count": null,
   "metadata": {},
   "outputs": [],
   "source": []
  }
 ],
 "metadata": {
  "kernelspec": {
   "display_name": "base",
   "language": "python",
   "name": "python3"
  },
  "language_info": {
   "codemirror_mode": {
    "name": "ipython",
    "version": 3
   },
   "file_extension": ".py",
   "mimetype": "text/x-python",
   "name": "python",
   "nbconvert_exporter": "python",
   "pygments_lexer": "ipython3",
   "version": "3.11.7"
  }
 },
 "nbformat": 4,
 "nbformat_minor": 2
}

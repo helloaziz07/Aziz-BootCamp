{
 "cells": [
  {
   "cell_type": "code",
   "execution_count": 18,
   "metadata": {},
   "outputs": [
    {
     "data": {
      "text/plain": [
       "'4.10.0'"
      ]
     },
     "execution_count": 18,
     "metadata": {},
     "output_type": "execute_result"
    }
   ],
   "source": [
    "# Importing libraries\n",
    "\n",
    "import cv2\n",
    "cv2.__version__"
   ]
  },
  {
   "cell_type": "code",
   "execution_count": 19,
   "metadata": {},
   "outputs": [],
   "source": [
    "# Loading and displaying the image\n",
    "\n",
    "img = cv2.imread('Bear.jpg')   # Load image\n",
    "cv2.imshow('Bear', img)   #Display image\n",
    "cv2.waitKey(0)  # wait for a key press to close\n",
    "cv2.destroyAllWindows()"
   ]
  },
  {
   "cell_type": "code",
   "execution_count": 20,
   "metadata": {},
   "outputs": [],
   "source": [
    "# Basic Image  Operations\n",
    "\n",
    "# Resize an image\n",
    "resized_img = cv2.resize(img, (600,600))\n",
    "cv2.imshow('Resized Image', resized_img)\n",
    "cv2.waitKey(0)\n",
    "cv2.destroyAllWindows()"
   ]
  },
  {
   "cell_type": "code",
   "execution_count": 21,
   "metadata": {},
   "outputs": [],
   "source": [
    "# Covert image into GrayScale\n",
    "\n",
    "gray_img = cv2.cvtColor(img, cv2.COLOR_BGR2GRAY)\n",
    "cv2.imshow('Grayscale Giraffe', gray_img)\n",
    "cv2.waitKey(0)\n",
    "cv2.destroyAllWindows()"
   ]
  },
  {
   "cell_type": "code",
   "execution_count": 22,
   "metadata": {},
   "outputs": [],
   "source": [
    "# Basic image ttransformations\n",
    "\n",
    "# Cropping an Image\n",
    "cropped_img = resized_img[1:, 1:466]\n",
    "cv2.imshow('Cropped Image', cropped_img)\n",
    "cv2.waitKey(0)\n",
    "cv2.destroyAllWindows()\n"
   ]
  },
  {
   "cell_type": "code",
   "execution_count": 23,
   "metadata": {},
   "outputs": [],
   "source": [
    "# Rotating an Image\n",
    "\n",
    "(h, w) = resized_img.shape[:2]\n",
    "center = (w // 2, h //2)\n",
    "M = cv2.getRotationMatrix2D(center, 12, 1.0)\n",
    "rotated_img = cv2.warpAffine(resized_img, M, (w, h))\n",
    "\n",
    "cv2.imshow(\"Rotated Image\", rotated_img)\n",
    "cv2.waitKey(0)\n",
    "cv2.destroyAllWindows()"
   ]
  },
  {
   "cell_type": "code",
   "execution_count": 24,
   "metadata": {},
   "outputs": [],
   "source": [
    "# IMAGE BLURRING TECHNIQUES\n",
    "\n",
    "# Gaussian Blurring\n",
    "\n",
    "blurred_img = cv2.GaussianBlur(resized_img, (5, 5), 0)\n",
    "\n",
    "cv2.imshow(\"Gaussian Blurred Image\", blurred_img)\n",
    "cv2.waitKey(0)\n",
    "cv2.destroyAllWindows()"
   ]
  },
  {
   "cell_type": "code",
   "execution_count": 25,
   "metadata": {},
   "outputs": [],
   "source": [
    "# Median Blurring\n",
    "\n",
    "median_blurred_img = cv2.medianBlur(resized_img, 5)\n",
    "\n",
    "cv2.imshow('Median Blurred Image', blurred_img)\n",
    "cv2.waitKey(0)\n",
    "cv2.destroyAllWindows()"
   ]
  },
  {
   "cell_type": "code",
   "execution_count": 26,
   "metadata": {},
   "outputs": [],
   "source": [
    "# Bilateral Blurring\n",
    "\n",
    "bilateral_blurred_img = cv2.bilateralFilter(resized_img, 53,79,100)\n",
    "\n",
    "cv2.imshow('Bilateral Blurred Image', blurred_img)\n",
    "cv2.waitKey(0)\n",
    "cv2.destroyAllWindows()"
   ]
  },
  {
   "cell_type": "code",
   "execution_count": 27,
   "metadata": {},
   "outputs": [],
   "source": [
    "# Average Blurring\n",
    "\n",
    "average_blur_img = cv2.blur(resized_img, (500, 5))\n",
    "\n",
    "cv2.imshow(\"Average Blurred Image\", average_blur_img)\n",
    "cv2.waitKey(0)\n",
    "cv2.destroyAllWindows()"
   ]
  },
  {
   "cell_type": "code",
   "execution_count": 28,
   "metadata": {},
   "outputs": [],
   "source": [
    "# IMAGE THRESHOLD TECHNIQUES\n",
    "\n",
    "\n",
    "# Binary Tresholding\n",
    "\n",
    "_, tresh_img = cv2.threshold(gray_img, 127, 255, cv2.THRESH_BINARY)\n",
    "\n",
    "cv2.imshow(\"Binary Treshold Image\", tresh_img)\n",
    "cv2.waitKey(0)\n",
    "cv2.destroyAllWindows()"
   ]
  },
  {
   "cell_type": "code",
   "execution_count": 29,
   "metadata": {},
   "outputs": [],
   "source": [
    "# Inverse Binary Transformmations\n",
    "\n",
    "_, thresh_img = cv2.threshold(gray_img, 127, 255, cv2.THRESH_BINARY_INV)\n",
    "\n",
    "cv2.imshow(\"Inverse Binary Treshold Image\", thresh_img)\n",
    "cv2.waitKey(0)\n",
    "cv2.destroyAllWindows()"
   ]
  },
  {
   "cell_type": "code",
   "execution_count": 30,
   "metadata": {},
   "outputs": [],
   "source": [
    "# Truncated Thresholding\n",
    "\n",
    "_, thresh_img = cv2.threshold(gray_img, 127, 255, cv2.THRESH_TRUNC)\n",
    "\n",
    "cv2.imshow(\"Truncated Thresholding\", thresh_img)\n",
    "cv2.waitKey(0)\n",
    "cv2.destroyAllWindows()\n"
   ]
  },
  {
   "cell_type": "code",
   "execution_count": 31,
   "metadata": {},
   "outputs": [],
   "source": [
    "# Zero Thresholding\n",
    "\n",
    "_, thresh_img = cv2.threshold(gray_img, 127, 255, cv2.THRESH_TOZERO)\n",
    "\n",
    "cv2.imshow(\"Zero Threshold\", thresh_img)\n",
    "cv2.waitKey(0)\n",
    "cv2.destroyAllWindows()\n"
   ]
  },
  {
   "cell_type": "code",
   "execution_count": 32,
   "metadata": {},
   "outputs": [],
   "source": [
    "# Inverse Zero Thresholding\n",
    "\n",
    "_, thresh_img = cv2.threshold(gray_img, 127, 255, cv2.THRESH_TOZERO_INV)\n",
    "\n",
    "cv2.imshow(\"Zero Threshold\", thresh_img)\n",
    "cv2.waitKey(0)\n",
    "cv2.destroyAllWindows()\n"
   ]
  },
  {
   "cell_type": "code",
   "execution_count": 33,
   "metadata": {},
   "outputs": [],
   "source": [
    "# Adaptive Thresholding\n",
    "\n",
    "adaptive_thresh_img = cv2.adaptiveThreshold(gray_img, 255, cv2.ADAPTIVE_THRESH_GAUSSIAN_C, cv2.THRESH_BINARY, 11, 2)\n",
    "\n",
    "cv2.imshow('Adaptive Thresholding', adaptive_thresh_img)\n",
    "cv2.waitKey(0)\n",
    "cv2.destroyAllWindows()"
   ]
  },
  {
   "cell_type": "code",
   "execution_count": 34,
   "metadata": {},
   "outputs": [],
   "source": [
    "# EDGE DETECTION\n",
    "\n",
    "# Canny Edge Detection\n",
    "\n",
    "edges = cv2.Canny(resized_img, 200, 255)\n",
    "\n",
    "cv2.imshow('Canny Edge', edges)\n",
    "cv2.waitKey(0)\n",
    "cv2.destroyAllWindows()"
   ]
  },
  {
   "cell_type": "code",
   "execution_count": null,
   "metadata": {},
   "outputs": [],
   "source": []
  }
 ],
 "metadata": {
  "kernelspec": {
   "display_name": "Python 3",
   "language": "python",
   "name": "python3"
  },
  "language_info": {
   "codemirror_mode": {
    "name": "ipython",
    "version": 3
   },
   "file_extension": ".py",
   "mimetype": "text/x-python",
   "name": "python",
   "nbconvert_exporter": "python",
   "pygments_lexer": "ipython3",
   "version": "3.12.4"
  }
 },
 "nbformat": 4,
 "nbformat_minor": 2
}
